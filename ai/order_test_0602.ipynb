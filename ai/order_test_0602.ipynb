{
  "nbformat": 4,
  "nbformat_minor": 0,
  "metadata": {
    "colab": {
      "name": "order-test-0602.ipynb",
      "provenance": [],
      "collapsed_sections": []
    },
    "kernelspec": {
      "name": "python3",
      "display_name": "Python 3"
    }
  },
  "cells": [
    {
      "cell_type": "code",
      "metadata": {
        "id": "SWPGEDeU6Jav",
        "colab_type": "code",
        "colab": {
          "base_uri": "https://localhost:8080/",
          "height": 34
        },
        "outputId": "271eedd6-95ce-4c8e-b006-113a025e068c"
      },
      "source": [
        "import tensorflow as tf\n",
        "\n",
        "from tensorflow import keras\n",
        "from tensorflow.keras import layers\n",
        "\n",
        "print(tf.__version__)"
      ],
      "execution_count": 1,
      "outputs": [
        {
          "output_type": "stream",
          "text": [
            "2.2.0\n"
          ],
          "name": "stdout"
        }
      ]
    },
    {
      "cell_type": "markdown",
      "metadata": {
        "id": "iZsmaXJyHLp_",
        "colab_type": "text"
      },
      "source": [
        "# Upload CSV File"
      ]
    },
    {
      "cell_type": "code",
      "metadata": {
        "id": "jd8G5x896xLA",
        "colab_type": "code",
        "colab": {
          "resources": {
            "http://localhost:8080/nbextensions/google.colab/files.js": {
              "data": "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",
              "ok": true,
              "headers": [
                [
                  "content-type",
                  "application/javascript"
                ]
              ],
              "status": 200,
              "status_text": ""
            }
          },
          "base_uri": "https://localhost:8080/",
          "height": 88
        },
        "outputId": "e37bcb51-6e5d-47ea-86ad-95e8118accf4"
      },
      "source": [
        "from google.colab import files\n",
        "\n",
        "uploaded = files.upload()\n",
        "\n",
        "for fn in uploaded.keys():\n",
        "  print('User uploaded file \"{name}\" with length {length} bytes'.format(\n",
        "      name=fn, length=len(uploaded[fn])))"
      ],
      "execution_count": 32,
      "outputs": [
        {
          "output_type": "display_data",
          "data": {
            "text/html": [
              "\n",
              "     <input type=\"file\" id=\"files-c0ae1ff5-f64c-44be-81b8-a5727ea8a4c5\" name=\"files[]\" multiple disabled />\n",
              "     <output id=\"result-c0ae1ff5-f64c-44be-81b8-a5727ea8a4c5\">\n",
              "      Upload widget is only available when the cell has been executed in the\n",
              "      current browser session. Please rerun this cell to enable.\n",
              "      </output>\n",
              "      <script src=\"/nbextensions/google.colab/files.js\"></script> "
            ],
            "text/plain": [
              "<IPython.core.display.HTML object>"
            ]
          },
          "metadata": {
            "tags": []
          }
        },
        {
          "output_type": "stream",
          "text": [
            "Saving data-01-sizeup.csv to data-01-sizeup (1).csv\n",
            "User uploaded file \"data-01-sizeup.csv\" with length 93669 bytes\n"
          ],
          "name": "stdout"
        }
      ]
    },
    {
      "cell_type": "markdown",
      "metadata": {
        "id": "J6nr9zmCHWy-",
        "colab_type": "text"
      },
      "source": [
        "# Read CSV"
      ]
    },
    {
      "cell_type": "code",
      "metadata": {
        "id": "cAYOJkTM67oa",
        "colab_type": "code",
        "colab": {
          "base_uri": "https://localhost:8080/",
          "height": 224
        },
        "outputId": "0939eefa-07e6-4e03-f2e2-21897d405d16"
      },
      "source": [
        "import pandas as pd\n",
        "import io\n",
        "\n",
        "cols = ['title', 'order_type', 'hope_dt', 'hope_tm', 'is_revision', 'is_duple', \n",
        "'remained_hope_dt', 'prev_state', 'duple_state', 'curr_state','somf_ext_state', 'somf_ext_state_tm', \n",
        "'somf_inn_state_1', 'somf_inn_state_1_tm', 'somf_inn_state_2', 'somf_inn_state_2_tm', \n",
        "'pna_inn_state_1', 'pna_inn_state_1_tm', 'pna_inn_state_2', 'pna_inn_state_2_tm', 'output']\n",
        "\n",
        "\n",
        "orders = pd.read_csv(io.StringIO(uploaded['data-01-sizeup.csv'].decode('utf-8')), names=cols, header=None)\n",
        "\n",
        "orders.head()"
      ],
      "execution_count": 33,
      "outputs": [
        {
          "output_type": "execute_result",
          "data": {
            "text/html": [
              "<div>\n",
              "<style scoped>\n",
              "    .dataframe tbody tr th:only-of-type {\n",
              "        vertical-align: middle;\n",
              "    }\n",
              "\n",
              "    .dataframe tbody tr th {\n",
              "        vertical-align: top;\n",
              "    }\n",
              "\n",
              "    .dataframe thead th {\n",
              "        text-align: right;\n",
              "    }\n",
              "</style>\n",
              "<table border=\"1\" class=\"dataframe\">\n",
              "  <thead>\n",
              "    <tr style=\"text-align: right;\">\n",
              "      <th></th>\n",
              "      <th>title</th>\n",
              "      <th>order_type</th>\n",
              "      <th>hope_dt</th>\n",
              "      <th>hope_tm</th>\n",
              "      <th>is_revision</th>\n",
              "      <th>is_duple</th>\n",
              "      <th>remained_hope_dt</th>\n",
              "      <th>prev_state</th>\n",
              "      <th>duple_state</th>\n",
              "      <th>curr_state</th>\n",
              "      <th>somf_ext_state</th>\n",
              "      <th>somf_ext_state_tm</th>\n",
              "      <th>somf_inn_state_1</th>\n",
              "      <th>somf_inn_state_1_tm</th>\n",
              "      <th>somf_inn_state_2</th>\n",
              "      <th>somf_inn_state_2_tm</th>\n",
              "      <th>pna_inn_state_1</th>\n",
              "      <th>pna_inn_state_1_tm</th>\n",
              "      <th>pna_inn_state_2</th>\n",
              "      <th>pna_inn_state_2_tm</th>\n",
              "      <th>output</th>\n",
              "    </tr>\n",
              "  </thead>\n",
              "  <tbody>\n",
              "    <tr>\n",
              "      <th>0</th>\n",
              "      <td>internet_500m</td>\n",
              "      <td>new</td>\n",
              "      <td>20200602</td>\n",
              "      <td>11</td>\n",
              "      <td>0</td>\n",
              "      <td>0</td>\n",
              "      <td>8</td>\n",
              "      <td>NaN</td>\n",
              "      <td>NaN</td>\n",
              "      <td>1</td>\n",
              "      <td>idms_req</td>\n",
              "      <td>50.0</td>\n",
              "      <td>reco</td>\n",
              "      <td>40</td>\n",
              "      <td>wodi</td>\n",
              "      <td>40.0</td>\n",
              "      <td>prdi</td>\n",
              "      <td>40</td>\n",
              "      <td>NaN</td>\n",
              "      <td>NaN</td>\n",
              "      <td>fail</td>\n",
              "    </tr>\n",
              "    <tr>\n",
              "      <th>1</th>\n",
              "      <td>internet_500m</td>\n",
              "      <td>new</td>\n",
              "      <td>20200602</td>\n",
              "      <td>11</td>\n",
              "      <td>0</td>\n",
              "      <td>0</td>\n",
              "      <td>8</td>\n",
              "      <td>NaN</td>\n",
              "      <td>NaN</td>\n",
              "      <td>1</td>\n",
              "      <td>idms_req</td>\n",
              "      <td>50.0</td>\n",
              "      <td>reco</td>\n",
              "      <td>40</td>\n",
              "      <td>wodi</td>\n",
              "      <td>40.0</td>\n",
              "      <td>reco</td>\n",
              "      <td>40</td>\n",
              "      <td>wodi</td>\n",
              "      <td>40.0</td>\n",
              "      <td>succ</td>\n",
              "    </tr>\n",
              "    <tr>\n",
              "      <th>2</th>\n",
              "      <td>internet_500m</td>\n",
              "      <td>new</td>\n",
              "      <td>20200602</td>\n",
              "      <td>11</td>\n",
              "      <td>0</td>\n",
              "      <td>0</td>\n",
              "      <td>8</td>\n",
              "      <td>NaN</td>\n",
              "      <td>NaN</td>\n",
              "      <td>1</td>\n",
              "      <td>NaN</td>\n",
              "      <td>NaN</td>\n",
              "      <td>prdi</td>\n",
              "      <td>40</td>\n",
              "      <td>NaN</td>\n",
              "      <td>NaN</td>\n",
              "      <td>prdi</td>\n",
              "      <td>40</td>\n",
              "      <td>NaN</td>\n",
              "      <td>NaN</td>\n",
              "      <td>delay</td>\n",
              "    </tr>\n",
              "    <tr>\n",
              "      <th>3</th>\n",
              "      <td>internet_500m</td>\n",
              "      <td>new</td>\n",
              "      <td>20200602</td>\n",
              "      <td>11</td>\n",
              "      <td>0</td>\n",
              "      <td>0</td>\n",
              "      <td>8</td>\n",
              "      <td>NaN</td>\n",
              "      <td>NaN</td>\n",
              "      <td>1</td>\n",
              "      <td>NaN</td>\n",
              "      <td>NaN</td>\n",
              "      <td>prdi</td>\n",
              "      <td>3</td>\n",
              "      <td>NaN</td>\n",
              "      <td>NaN</td>\n",
              "      <td>prdi</td>\n",
              "      <td>3</td>\n",
              "      <td>NaN</td>\n",
              "      <td>NaN</td>\n",
              "      <td>succ</td>\n",
              "    </tr>\n",
              "    <tr>\n",
              "      <th>4</th>\n",
              "      <td>internet_500m</td>\n",
              "      <td>new</td>\n",
              "      <td>20200602</td>\n",
              "      <td>11</td>\n",
              "      <td>0</td>\n",
              "      <td>0</td>\n",
              "      <td>8</td>\n",
              "      <td>NaN</td>\n",
              "      <td>NaN</td>\n",
              "      <td>1</td>\n",
              "      <td>NaN</td>\n",
              "      <td>NaN</td>\n",
              "      <td>lord</td>\n",
              "      <td>40</td>\n",
              "      <td>NaN</td>\n",
              "      <td>NaN</td>\n",
              "      <td>phrd</td>\n",
              "      <td>40</td>\n",
              "      <td>NaN</td>\n",
              "      <td>NaN</td>\n",
              "      <td>fail</td>\n",
              "    </tr>\n",
              "  </tbody>\n",
              "</table>\n",
              "</div>"
            ],
            "text/plain": [
              "           title order_type  ...  pna_inn_state_2_tm  output\n",
              "0  internet_500m        new  ...                 NaN    fail\n",
              "1  internet_500m        new  ...                40.0    succ\n",
              "2  internet_500m        new  ...                 NaN   delay\n",
              "3  internet_500m        new  ...                 NaN    succ\n",
              "4  internet_500m        new  ...                 NaN    fail\n",
              "\n",
              "[5 rows x 21 columns]"
            ]
          },
          "metadata": {
            "tags": []
          },
          "execution_count": 33
        }
      ]
    },
    {
      "cell_type": "markdown",
      "metadata": {
        "id": "3snzTeI-JXYo",
        "colab_type": "text"
      },
      "source": [
        "# 데이터 훑어보기"
      ]
    },
    {
      "cell_type": "code",
      "metadata": {
        "id": "0glKFtqR7gcb",
        "colab_type": "code",
        "colab": {
          "base_uri": "https://localhost:8080/",
          "height": 493
        },
        "outputId": "0935a304-2f6e-43c1-c2ae-b780a90c37d3"
      },
      "source": [
        "orders.info()"
      ],
      "execution_count": 34,
      "outputs": [
        {
          "output_type": "stream",
          "text": [
            "<class 'pandas.core.frame.DataFrame'>\n",
            "RangeIndex: 1020 entries, 0 to 1019\n",
            "Data columns (total 21 columns):\n",
            " #   Column               Non-Null Count  Dtype  \n",
            "---  ------               --------------  -----  \n",
            " 0   title                1020 non-null   object \n",
            " 1   order_type           1020 non-null   object \n",
            " 2   hope_dt              1020 non-null   int64  \n",
            " 3   hope_tm              1020 non-null   int64  \n",
            " 4   is_revision          1020 non-null   int64  \n",
            " 5   is_duple             1020 non-null   int64  \n",
            " 6   remained_hope_dt     1020 non-null   int64  \n",
            " 7   prev_state           0 non-null      float64\n",
            " 8   duple_state          0 non-null      float64\n",
            " 9   curr_state           1020 non-null   int64  \n",
            " 10  somf_ext_state       340 non-null    object \n",
            " 11  somf_ext_state_tm    340 non-null    float64\n",
            " 12  somf_inn_state_1     1020 non-null   object \n",
            " 13  somf_inn_state_1_tm  1020 non-null   int64  \n",
            " 14  somf_inn_state_2     340 non-null    object \n",
            " 15  somf_inn_state_2_tm  340 non-null    float64\n",
            " 16  pna_inn_state_1      1020 non-null   object \n",
            " 17  pna_inn_state_1_tm   1020 non-null   int64  \n",
            " 18  pna_inn_state_2      170 non-null    object \n",
            " 19  pna_inn_state_2_tm   170 non-null    float64\n",
            " 20  output               1020 non-null   object \n",
            "dtypes: float64(5), int64(8), object(8)\n",
            "memory usage: 167.5+ KB\n"
          ],
          "name": "stdout"
        }
      ]
    },
    {
      "cell_type": "code",
      "metadata": {
        "id": "tIXzH_ZgJA8-",
        "colab_type": "code",
        "colab": {
          "base_uri": "https://localhost:8080/",
          "height": 374
        },
        "outputId": "fd36e0e2-6545-4c5e-a4e8-6c27ec6ba553"
      },
      "source": [
        "import matplotlib.pyplot as plt\n",
        "\n",
        "plot_size = plt.rcParams[\"figure.figsize\"]\n",
        "plot_size [0] = 8\n",
        "plot_size [1] = 6\n",
        "plt.rcParams[\"figure.figsize\"] = plot_size\n",
        "\n",
        "orders.output.value_counts().plot(kind='pie', autopct='%0.05f%%', colors=['lightblue', 'lightgreen', 'orange'], explode=(0.05, 0.05, 0.05))"
      ],
      "execution_count": 35,
      "outputs": [
        {
          "output_type": "execute_result",
          "data": {
            "text/plain": [
              "<matplotlib.axes._subplots.AxesSubplot at 0x7f19cd997630>"
            ]
          },
          "metadata": {
            "tags": []
          },
          "execution_count": 35
        },
        {
          "output_type": "display_data",
          "data": {
            "image/png": "[encoded data removed]",
            "text/plain": [
              "<Figure size 576x432 with 1 Axes>"
            ]
          },
          "metadata": {
            "tags": []
          }
        }
      ]
    },
    {
      "cell_type": "code",
      "metadata": {
        "id": "rqbVdYjDJpG3",
        "colab_type": "code",
        "colab": {}
      },
      "source": [
        "order_type = pd.get_dummies(orders.order_type,  prefix='order_type')\n",
        "somf_ext_state = pd.get_dummies(orders.somf_ext_state,  prefix='somf_ext_state')\n",
        "somf_inn_state_1 = pd.get_dummies(orders.somf_inn_state_1, prefix='somf_inn_state_1')\n",
        "somf_inn_state_2 = pd.get_dummies(orders.somf_inn_state_2, prefix='somf_inn_state_2')\n",
        "pna_inn_state_1 = pd.get_dummies(orders.pna_inn_state_1, prefix='pna_inn_state_1')\n",
        "pna_inn_state_2 = pd.get_dummies(orders.pna_inn_state_2, prefix='pna_inn_state_2')\n",
        "\n",
        "labels = pd.get_dummies(orders.output)\n"
      ],
      "execution_count": 0,
      "outputs": []
    },
    {
      "cell_type": "code",
      "metadata": {
        "id": "UHB0KZZ6fxBW",
        "colab_type": "code",
        "colab": {
          "base_uri": "https://localhost:8080/",
          "height": 204
        },
        "outputId": "10755343-57de-4f04-faeb-73fa2464c9eb"
      },
      "source": [
        "labels.head()"
      ],
      "execution_count": 37,
      "outputs": [
        {
          "output_type": "execute_result",
          "data": {
            "text/html": [
              "<div>\n",
              "<style scoped>\n",
              "    .dataframe tbody tr th:only-of-type {\n",
              "        vertical-align: middle;\n",
              "    }\n",
              "\n",
              "    .dataframe tbody tr th {\n",
              "        vertical-align: top;\n",
              "    }\n",
              "\n",
              "    .dataframe thead th {\n",
              "        text-align: right;\n",
              "    }\n",
              "</style>\n",
              "<table border=\"1\" class=\"dataframe\">\n",
              "  <thead>\n",
              "    <tr style=\"text-align: right;\">\n",
              "      <th></th>\n",
              "      <th>delay</th>\n",
              "      <th>fail</th>\n",
              "      <th>succ</th>\n",
              "    </tr>\n",
              "  </thead>\n",
              "  <tbody>\n",
              "    <tr>\n",
              "      <th>0</th>\n",
              "      <td>0</td>\n",
              "      <td>1</td>\n",
              "      <td>0</td>\n",
              "    </tr>\n",
              "    <tr>\n",
              "      <th>1</th>\n",
              "      <td>0</td>\n",
              "      <td>0</td>\n",
              "      <td>1</td>\n",
              "    </tr>\n",
              "    <tr>\n",
              "      <th>2</th>\n",
              "      <td>1</td>\n",
              "      <td>0</td>\n",
              "      <td>0</td>\n",
              "    </tr>\n",
              "    <tr>\n",
              "      <th>3</th>\n",
              "      <td>0</td>\n",
              "      <td>0</td>\n",
              "      <td>1</td>\n",
              "    </tr>\n",
              "    <tr>\n",
              "      <th>4</th>\n",
              "      <td>0</td>\n",
              "      <td>1</td>\n",
              "      <td>0</td>\n",
              "    </tr>\n",
              "  </tbody>\n",
              "</table>\n",
              "</div>"
            ],
            "text/plain": [
              "   delay  fail  succ\n",
              "0      0     1     0\n",
              "1      0     0     1\n",
              "2      1     0     0\n",
              "3      0     0     1\n",
              "4      0     1     0"
            ]
          },
          "metadata": {
            "tags": []
          },
          "execution_count": 37
        }
      ]
    },
    {
      "cell_type": "code",
      "metadata": {
        "id": "Cor-ee5SMO4j",
        "colab_type": "code",
        "colab": {
          "base_uri": "https://localhost:8080/",
          "height": 224
        },
        "outputId": "c1d42ed9-f96b-4164-c714-c63c315aa5ab"
      },
      "source": [
        "X = pd.concat([order_type, orders.is_revision, orders.is_duple, orders.curr_state, somf_ext_state, somf_inn_state_1, somf_inn_state_2, pna_inn_state_1, pna_inn_state_2] , axis=1)\n",
        "X.head()"
      ],
      "execution_count": 38,
      "outputs": [
        {
          "output_type": "execute_result",
          "data": {
            "text/html": [
              "<div>\n",
              "<style scoped>\n",
              "    .dataframe tbody tr th:only-of-type {\n",
              "        vertical-align: middle;\n",
              "    }\n",
              "\n",
              "    .dataframe tbody tr th {\n",
              "        vertical-align: top;\n",
              "    }\n",
              "\n",
              "    .dataframe thead th {\n",
              "        text-align: right;\n",
              "    }\n",
              "</style>\n",
              "<table border=\"1\" class=\"dataframe\">\n",
              "  <thead>\n",
              "    <tr style=\"text-align: right;\">\n",
              "      <th></th>\n",
              "      <th>order_type_new</th>\n",
              "      <th>is_revision</th>\n",
              "      <th>is_duple</th>\n",
              "      <th>curr_state</th>\n",
              "      <th>somf_ext_state_idms_req</th>\n",
              "      <th>somf_inn_state_1_lord</th>\n",
              "      <th>somf_inn_state_1_prdi</th>\n",
              "      <th>somf_inn_state_1_reco</th>\n",
              "      <th>somf_inn_state_2_wodi</th>\n",
              "      <th>pna_inn_state_1_lord</th>\n",
              "      <th>pna_inn_state_1_phrd</th>\n",
              "      <th>pna_inn_state_1_prdi</th>\n",
              "      <th>pna_inn_state_1_reco</th>\n",
              "      <th>pna_inn_state_2_wodi</th>\n",
              "    </tr>\n",
              "  </thead>\n",
              "  <tbody>\n",
              "    <tr>\n",
              "      <th>0</th>\n",
              "      <td>1</td>\n",
              "      <td>0</td>\n",
              "      <td>0</td>\n",
              "      <td>1</td>\n",
              "      <td>1</td>\n",
              "      <td>0</td>\n",
              "      <td>0</td>\n",
              "      <td>1</td>\n",
              "      <td>1</td>\n",
              "      <td>0</td>\n",
              "      <td>0</td>\n",
              "      <td>1</td>\n",
              "      <td>0</td>\n",
              "      <td>0</td>\n",
              "    </tr>\n",
              "    <tr>\n",
              "      <th>1</th>\n",
              "      <td>1</td>\n",
              "      <td>0</td>\n",
              "      <td>0</td>\n",
              "      <td>1</td>\n",
              "      <td>1</td>\n",
              "      <td>0</td>\n",
              "      <td>0</td>\n",
              "      <td>1</td>\n",
              "      <td>1</td>\n",
              "      <td>0</td>\n",
              "      <td>0</td>\n",
              "      <td>0</td>\n",
              "      <td>1</td>\n",
              "      <td>1</td>\n",
              "    </tr>\n",
              "    <tr>\n",
              "      <th>2</th>\n",
              "      <td>1</td>\n",
              "      <td>0</td>\n",
              "      <td>0</td>\n",
              "      <td>1</td>\n",
              "      <td>0</td>\n",
              "      <td>0</td>\n",
              "      <td>1</td>\n",
              "      <td>0</td>\n",
              "      <td>0</td>\n",
              "      <td>0</td>\n",
              "      <td>0</td>\n",
              "      <td>1</td>\n",
              "      <td>0</td>\n",
              "      <td>0</td>\n",
              "    </tr>\n",
              "    <tr>\n",
              "      <th>3</th>\n",
              "      <td>1</td>\n",
              "      <td>0</td>\n",
              "      <td>0</td>\n",
              "      <td>1</td>\n",
              "      <td>0</td>\n",
              "      <td>0</td>\n",
              "      <td>1</td>\n",
              "      <td>0</td>\n",
              "      <td>0</td>\n",
              "      <td>0</td>\n",
              "      <td>0</td>\n",
              "      <td>1</td>\n",
              "      <td>0</td>\n",
              "      <td>0</td>\n",
              "    </tr>\n",
              "    <tr>\n",
              "      <th>4</th>\n",
              "      <td>1</td>\n",
              "      <td>0</td>\n",
              "      <td>0</td>\n",
              "      <td>1</td>\n",
              "      <td>0</td>\n",
              "      <td>1</td>\n",
              "      <td>0</td>\n",
              "      <td>0</td>\n",
              "      <td>0</td>\n",
              "      <td>0</td>\n",
              "      <td>1</td>\n",
              "      <td>0</td>\n",
              "      <td>0</td>\n",
              "      <td>0</td>\n",
              "    </tr>\n",
              "  </tbody>\n",
              "</table>\n",
              "</div>"
            ],
            "text/plain": [
              "   order_type_new  is_revision  ...  pna_inn_state_1_reco  pna_inn_state_2_wodi\n",
              "0               1            0  ...                     0                     0\n",
              "1               1            0  ...                     1                     1\n",
              "2               1            0  ...                     0                     0\n",
              "3               1            0  ...                     0                     0\n",
              "4               1            0  ...                     0                     0\n",
              "\n",
              "[5 rows x 14 columns]"
            ]
          },
          "metadata": {
            "tags": []
          },
          "execution_count": 38
        }
      ]
    },
    {
      "cell_type": "code",
      "metadata": {
        "id": "B6OXEBLgOjCS",
        "colab_type": "code",
        "colab": {}
      },
      "source": [
        "y = labels.values"
      ],
      "execution_count": 0,
      "outputs": []
    },
    {
      "cell_type": "markdown",
      "metadata": {
        "id": "2s_eLMzuSlhu",
        "colab_type": "text"
      },
      "source": [
        "# 훈련/테스트 데이터 분리"
      ]
    },
    {
      "cell_type": "code",
      "metadata": {
        "id": "mHYvP0w7R2HN",
        "colab_type": "code",
        "colab": {}
      },
      "source": [
        "from sklearn.model_selection import train_test_split\n",
        "\n",
        "X_train, X_test, y_train, y_test = train_test_split(X, y, test_size=0.02, random_state=42)"
      ],
      "execution_count": 0,
      "outputs": []
    },
    {
      "cell_type": "markdown",
      "metadata": {
        "id": "axm9GCiXSp6a",
        "colab_type": "text"
      },
      "source": [
        "# 모델 생성"
      ]
    },
    {
      "cell_type": "code",
      "metadata": {
        "id": "8TsGxVo4R7Lz",
        "colab_type": "code",
        "colab": {
          "base_uri": "https://localhost:8080/",
          "height": 255
        },
        "outputId": "6b9742d8-408e-42a0-fb72-da901ab61d13"
      },
      "source": [
        "def build_model():\n",
        "  model = keras.Sequential([\n",
        "    layers.Dense(64, activation='relu', input_shape=(X.shape[1],)),\n",
        "    layers.Dense(64, activation='relu'),\n",
        "    layers.Dense(y.shape[1], activation='softmax')\n",
        "  ])\n",
        "\n",
        "  # model.compile(loss='categorical_crossentropy',\n",
        "  #               optimizer='adam',\n",
        "  #               metrics=['accuracy'])\n",
        "  model.compile(loss='categorical_crossentropy',\n",
        "                optimizer='adam',\n",
        "                metrics=['accuracy'])\n",
        "  \n",
        "  return model\n",
        "\n",
        "model = build_model()\n",
        "model.summary()"
      ],
      "execution_count": 68,
      "outputs": [
        {
          "output_type": "stream",
          "text": [
            "Model: \"sequential_11\"\n",
            "_________________________________________________________________\n",
            "Layer (type)                 Output Shape              Param #   \n",
            "=================================================================\n",
            "dense_35 (Dense)             (None, 64)                960       \n",
            "_________________________________________________________________\n",
            "dense_36 (Dense)             (None, 64)                4160      \n",
            "_________________________________________________________________\n",
            "dense_37 (Dense)             (None, 3)                 195       \n",
            "=================================================================\n",
            "Total params: 5,315\n",
            "Trainable params: 5,315\n",
            "Non-trainable params: 0\n",
            "_________________________________________________________________\n"
          ],
          "name": "stdout"
        }
      ]
    },
    {
      "cell_type": "markdown",
      "metadata": {
        "id": "zSj7q1haStDW",
        "colab_type": "text"
      },
      "source": [
        "# 훈련"
      ]
    },
    {
      "cell_type": "code",
      "metadata": {
        "id": "XszqnwqFSEEp",
        "colab_type": "code",
        "colab": {
          "base_uri": "https://localhost:8080/",
          "height": 1000
        },
        "outputId": "4270b96d-8920-47ff-a7ee-186bd205e658"
      },
      "source": [
        "EPOCHS = 100\n",
        "\n",
        "history = model.fit(X_train, y_train, epochs=EPOCHS, validation_split = 0.2, verbose=1)"
      ],
      "execution_count": 69,
      "outputs": [
        {
          "output_type": "stream",
          "text": [
            "Epoch 1/100\n",
            "25/25 [==============================] - 0s 8ms/step - loss: 0.9078 - accuracy: 0.6871 - val_loss: 0.7246 - val_accuracy: 0.8300\n",
            "Epoch 2/100\n",
            "25/25 [==============================] - 0s 3ms/step - loss: 0.5919 - accuracy: 0.8310 - val_loss: 0.4598 - val_accuracy: 0.8300\n",
            "Epoch 3/100\n",
            "25/25 [==============================] - 0s 3ms/step - loss: 0.3898 - accuracy: 0.8310 - val_loss: 0.3150 - val_accuracy: 0.8300\n",
            "Epoch 4/100\n",
            "25/25 [==============================] - 0s 3ms/step - loss: 0.2964 - accuracy: 0.8310 - val_loss: 0.2633 - val_accuracy: 0.8300\n",
            "Epoch 5/100\n",
            "25/25 [==============================] - 0s 3ms/step - loss: 0.2642 - accuracy: 0.8310 - val_loss: 0.2456 - val_accuracy: 0.8300\n",
            "Epoch 6/100\n",
            "25/25 [==============================] - 0s 3ms/step - loss: 0.2505 - accuracy: 0.8385 - val_loss: 0.2379 - val_accuracy: 0.8450\n",
            "Epoch 7/100\n",
            "25/25 [==============================] - 0s 3ms/step - loss: 0.2462 - accuracy: 0.8360 - val_loss: 0.2378 - val_accuracy: 0.8300\n",
            "Epoch 8/100\n",
            "25/25 [==============================] - 0s 4ms/step - loss: 0.2436 - accuracy: 0.8248 - val_loss: 0.2307 - val_accuracy: 0.8450\n",
            "Epoch 9/100\n",
            "25/25 [==============================] - 0s 5ms/step - loss: 0.2411 - accuracy: 0.8323 - val_loss: 0.2307 - val_accuracy: 0.8300\n",
            "Epoch 10/100\n",
            "25/25 [==============================] - 0s 3ms/step - loss: 0.2400 - accuracy: 0.8273 - val_loss: 0.2285 - val_accuracy: 0.8450\n",
            "Epoch 11/100\n",
            "25/25 [==============================] - 0s 4ms/step - loss: 0.2411 - accuracy: 0.8135 - val_loss: 0.2279 - val_accuracy: 0.8450\n",
            "Epoch 12/100\n",
            "25/25 [==============================] - 0s 3ms/step - loss: 0.2417 - accuracy: 0.8160 - val_loss: 0.2275 - val_accuracy: 0.8450\n",
            "Epoch 13/100\n",
            "25/25 [==============================] - 0s 3ms/step - loss: 0.2434 - accuracy: 0.8048 - val_loss: 0.2353 - val_accuracy: 0.8300\n",
            "Epoch 14/100\n",
            "25/25 [==============================] - 0s 3ms/step - loss: 0.2403 - accuracy: 0.8348 - val_loss: 0.2295 - val_accuracy: 0.8450\n",
            "Epoch 15/100\n",
            "25/25 [==============================] - 0s 3ms/step - loss: 0.2357 - accuracy: 0.8398 - val_loss: 0.2322 - val_accuracy: 0.8300\n",
            "Epoch 16/100\n",
            "25/25 [==============================] - 0s 3ms/step - loss: 0.2398 - accuracy: 0.8298 - val_loss: 0.2264 - val_accuracy: 0.8450\n",
            "Epoch 17/100\n",
            "25/25 [==============================] - 0s 3ms/step - loss: 0.2378 - accuracy: 0.8198 - val_loss: 0.2269 - val_accuracy: 0.8300\n",
            "Epoch 18/100\n",
            "25/25 [==============================] - 0s 4ms/step - loss: 0.2373 - accuracy: 0.8323 - val_loss: 0.2264 - val_accuracy: 0.8450\n",
            "Epoch 19/100\n",
            "25/25 [==============================] - 0s 3ms/step - loss: 0.2381 - accuracy: 0.8248 - val_loss: 0.2260 - val_accuracy: 0.8450\n",
            "Epoch 20/100\n",
            "25/25 [==============================] - 0s 3ms/step - loss: 0.2402 - accuracy: 0.8360 - val_loss: 0.2322 - val_accuracy: 0.8300\n",
            "Epoch 21/100\n",
            "25/25 [==============================] - 0s 3ms/step - loss: 0.2393 - accuracy: 0.8098 - val_loss: 0.2268 - val_accuracy: 0.8300\n",
            "Epoch 22/100\n",
            "25/25 [==============================] - 0s 3ms/step - loss: 0.2424 - accuracy: 0.8260 - val_loss: 0.2381 - val_accuracy: 0.8300\n",
            "Epoch 23/100\n",
            "25/25 [==============================] - 0s 3ms/step - loss: 0.2401 - accuracy: 0.8260 - val_loss: 0.2272 - val_accuracy: 0.8300\n",
            "Epoch 24/100\n",
            "25/25 [==============================] - 0s 3ms/step - loss: 0.2388 - accuracy: 0.8323 - val_loss: 0.2301 - val_accuracy: 0.8450\n",
            "Epoch 25/100\n",
            "25/25 [==============================] - 0s 3ms/step - loss: 0.2455 - accuracy: 0.8210 - val_loss: 0.2321 - val_accuracy: 0.8300\n",
            "Epoch 26/100\n",
            "25/25 [==============================] - 0s 3ms/step - loss: 0.2370 - accuracy: 0.8198 - val_loss: 0.2257 - val_accuracy: 0.8450\n",
            "Epoch 27/100\n",
            "25/25 [==============================] - 0s 3ms/step - loss: 0.2382 - accuracy: 0.8223 - val_loss: 0.2261 - val_accuracy: 0.8450\n",
            "Epoch 28/100\n",
            "25/25 [==============================] - 0s 4ms/step - loss: 0.2375 - accuracy: 0.8348 - val_loss: 0.2289 - val_accuracy: 0.8300\n",
            "Epoch 29/100\n",
            "25/25 [==============================] - 0s 3ms/step - loss: 0.2374 - accuracy: 0.8423 - val_loss: 0.2257 - val_accuracy: 0.8450\n",
            "Epoch 30/100\n",
            "25/25 [==============================] - 0s 3ms/step - loss: 0.2371 - accuracy: 0.8185 - val_loss: 0.2261 - val_accuracy: 0.8300\n",
            "Epoch 31/100\n",
            "25/25 [==============================] - 0s 3ms/step - loss: 0.2379 - accuracy: 0.8285 - val_loss: 0.2260 - val_accuracy: 0.8450\n",
            "Epoch 32/100\n",
            "25/25 [==============================] - 0s 3ms/step - loss: 0.2363 - accuracy: 0.8360 - val_loss: 0.2274 - val_accuracy: 0.8300\n",
            "Epoch 33/100\n",
            "25/25 [==============================] - 0s 3ms/step - loss: 0.2372 - accuracy: 0.8310 - val_loss: 0.2259 - val_accuracy: 0.8450\n",
            "Epoch 34/100\n",
            "25/25 [==============================] - 0s 4ms/step - loss: 0.2384 - accuracy: 0.8110 - val_loss: 0.2254 - val_accuracy: 0.8450\n",
            "Epoch 35/100\n",
            "25/25 [==============================] - 0s 3ms/step - loss: 0.2357 - accuracy: 0.8323 - val_loss: 0.2290 - val_accuracy: 0.8300\n",
            "Epoch 36/100\n",
            "25/25 [==============================] - 0s 4ms/step - loss: 0.2398 - accuracy: 0.8248 - val_loss: 0.2275 - val_accuracy: 0.8450\n",
            "Epoch 37/100\n",
            "25/25 [==============================] - 0s 5ms/step - loss: 0.2390 - accuracy: 0.8173 - val_loss: 0.2257 - val_accuracy: 0.8450\n",
            "Epoch 38/100\n",
            "25/25 [==============================] - 0s 3ms/step - loss: 0.2385 - accuracy: 0.8098 - val_loss: 0.2262 - val_accuracy: 0.8300\n",
            "Epoch 39/100\n",
            "25/25 [==============================] - 0s 5ms/step - loss: 0.2384 - accuracy: 0.8073 - val_loss: 0.2257 - val_accuracy: 0.8450\n",
            "Epoch 40/100\n",
            "25/25 [==============================] - 0s 4ms/step - loss: 0.2362 - accuracy: 0.8310 - val_loss: 0.2266 - val_accuracy: 0.8300\n",
            "Epoch 41/100\n",
            "25/25 [==============================] - 0s 4ms/step - loss: 0.2367 - accuracy: 0.8273 - val_loss: 0.2254 - val_accuracy: 0.8450\n",
            "Epoch 42/100\n",
            "25/25 [==============================] - 0s 3ms/step - loss: 0.2377 - accuracy: 0.8335 - val_loss: 0.2305 - val_accuracy: 0.8300\n",
            "Epoch 43/100\n",
            "25/25 [==============================] - 0s 3ms/step - loss: 0.2376 - accuracy: 0.8173 - val_loss: 0.2258 - val_accuracy: 0.8300\n",
            "Epoch 44/100\n",
            "25/25 [==============================] - 0s 4ms/step - loss: 0.2370 - accuracy: 0.8110 - val_loss: 0.2257 - val_accuracy: 0.8300\n",
            "Epoch 45/100\n",
            "25/25 [==============================] - 0s 3ms/step - loss: 0.2375 - accuracy: 0.8273 - val_loss: 0.2254 - val_accuracy: 0.8450\n",
            "Epoch 46/100\n",
            "25/25 [==============================] - 0s 3ms/step - loss: 0.2361 - accuracy: 0.8360 - val_loss: 0.2283 - val_accuracy: 0.8300\n",
            "Epoch 47/100\n",
            "25/25 [==============================] - 0s 4ms/step - loss: 0.2385 - accuracy: 0.8210 - val_loss: 0.2254 - val_accuracy: 0.8450\n",
            "Epoch 48/100\n",
            "25/25 [==============================] - 0s 3ms/step - loss: 0.2375 - accuracy: 0.8298 - val_loss: 0.2263 - val_accuracy: 0.8300\n",
            "Epoch 49/100\n",
            "25/25 [==============================] - 0s 4ms/step - loss: 0.2385 - accuracy: 0.8260 - val_loss: 0.2280 - val_accuracy: 0.8300\n",
            "Epoch 50/100\n",
            "25/25 [==============================] - 0s 4ms/step - loss: 0.2367 - accuracy: 0.8310 - val_loss: 0.2260 - val_accuracy: 0.8450\n",
            "Epoch 51/100\n",
            "25/25 [==============================] - 0s 4ms/step - loss: 0.2382 - accuracy: 0.8173 - val_loss: 0.2252 - val_accuracy: 0.8450\n",
            "Epoch 52/100\n",
            "25/25 [==============================] - 0s 3ms/step - loss: 0.2369 - accuracy: 0.8285 - val_loss: 0.2258 - val_accuracy: 0.8300\n",
            "Epoch 53/100\n",
            "25/25 [==============================] - 0s 3ms/step - loss: 0.2359 - accuracy: 0.8273 - val_loss: 0.2254 - val_accuracy: 0.8450\n",
            "Epoch 54/100\n",
            "25/25 [==============================] - 0s 4ms/step - loss: 0.2359 - accuracy: 0.8298 - val_loss: 0.2257 - val_accuracy: 0.8300\n",
            "Epoch 55/100\n",
            "25/25 [==============================] - 0s 3ms/step - loss: 0.2367 - accuracy: 0.8235 - val_loss: 0.2253 - val_accuracy: 0.8450\n",
            "Epoch 56/100\n",
            "25/25 [==============================] - 0s 4ms/step - loss: 0.2365 - accuracy: 0.8235 - val_loss: 0.2252 - val_accuracy: 0.8450\n",
            "Epoch 57/100\n",
            "25/25 [==============================] - 0s 3ms/step - loss: 0.2375 - accuracy: 0.8098 - val_loss: 0.2252 - val_accuracy: 0.8450\n",
            "Epoch 58/100\n",
            "25/25 [==============================] - 0s 3ms/step - loss: 0.2364 - accuracy: 0.8260 - val_loss: 0.2258 - val_accuracy: 0.8300\n",
            "Epoch 59/100\n",
            "25/25 [==============================] - 0s 4ms/step - loss: 0.2367 - accuracy: 0.8173 - val_loss: 0.2253 - val_accuracy: 0.8450\n",
            "Epoch 60/100\n",
            "25/25 [==============================] - 0s 3ms/step - loss: 0.2363 - accuracy: 0.8035 - val_loss: 0.2254 - val_accuracy: 0.8450\n",
            "Epoch 61/100\n",
            "25/25 [==============================] - 0s 3ms/step - loss: 0.2362 - accuracy: 0.8098 - val_loss: 0.2252 - val_accuracy: 0.8450\n",
            "Epoch 62/100\n",
            "25/25 [==============================] - 0s 4ms/step - loss: 0.2367 - accuracy: 0.8323 - val_loss: 0.2279 - val_accuracy: 0.8300\n",
            "Epoch 63/100\n",
            "25/25 [==============================] - 0s 3ms/step - loss: 0.2379 - accuracy: 0.8210 - val_loss: 0.2251 - val_accuracy: 0.8450\n",
            "Epoch 64/100\n",
            "25/25 [==============================] - 0s 3ms/step - loss: 0.2378 - accuracy: 0.8198 - val_loss: 0.2258 - val_accuracy: 0.8300\n",
            "Epoch 65/100\n",
            "25/25 [==============================] - 0s 4ms/step - loss: 0.2396 - accuracy: 0.8135 - val_loss: 0.2260 - val_accuracy: 0.8300\n",
            "Epoch 66/100\n",
            "25/25 [==============================] - 0s 3ms/step - loss: 0.2363 - accuracy: 0.8173 - val_loss: 0.2265 - val_accuracy: 0.8300\n",
            "Epoch 67/100\n",
            "25/25 [==============================] - 0s 3ms/step - loss: 0.2362 - accuracy: 0.8235 - val_loss: 0.2254 - val_accuracy: 0.8450\n",
            "Epoch 68/100\n",
            "25/25 [==============================] - 0s 3ms/step - loss: 0.2365 - accuracy: 0.8173 - val_loss: 0.2253 - val_accuracy: 0.8450\n",
            "Epoch 69/100\n",
            "25/25 [==============================] - 0s 3ms/step - loss: 0.2358 - accuracy: 0.8310 - val_loss: 0.2263 - val_accuracy: 0.8300\n",
            "Epoch 70/100\n",
            "25/25 [==============================] - 0s 3ms/step - loss: 0.2389 - accuracy: 0.8160 - val_loss: 0.2258 - val_accuracy: 0.8300\n",
            "Epoch 71/100\n",
            "25/25 [==============================] - 0s 4ms/step - loss: 0.2367 - accuracy: 0.8323 - val_loss: 0.2251 - val_accuracy: 0.8450\n",
            "Epoch 72/100\n",
            "25/25 [==============================] - 0s 3ms/step - loss: 0.2387 - accuracy: 0.8273 - val_loss: 0.2274 - val_accuracy: 0.8300\n",
            "Epoch 73/100\n",
            "25/25 [==============================] - 0s 4ms/step - loss: 0.2378 - accuracy: 0.8210 - val_loss: 0.2252 - val_accuracy: 0.8450\n",
            "Epoch 74/100\n",
            "25/25 [==============================] - 0s 4ms/step - loss: 0.2372 - accuracy: 0.8185 - val_loss: 0.2251 - val_accuracy: 0.8450\n",
            "Epoch 75/100\n",
            "25/25 [==============================] - 0s 4ms/step - loss: 0.2364 - accuracy: 0.8223 - val_loss: 0.2260 - val_accuracy: 0.8300\n",
            "Epoch 76/100\n",
            "25/25 [==============================] - 0s 4ms/step - loss: 0.2376 - accuracy: 0.8135 - val_loss: 0.2269 - val_accuracy: 0.8300\n",
            "Epoch 77/100\n",
            "25/25 [==============================] - 0s 4ms/step - loss: 0.2359 - accuracy: 0.8210 - val_loss: 0.2255 - val_accuracy: 0.8300\n",
            "Epoch 78/100\n",
            "25/25 [==============================] - 0s 3ms/step - loss: 0.2358 - accuracy: 0.8185 - val_loss: 0.2254 - val_accuracy: 0.8450\n",
            "Epoch 79/100\n",
            "25/25 [==============================] - 0s 4ms/step - loss: 0.2362 - accuracy: 0.8260 - val_loss: 0.2251 - val_accuracy: 0.8450\n",
            "Epoch 80/100\n",
            "25/25 [==============================] - 0s 4ms/step - loss: 0.2359 - accuracy: 0.8248 - val_loss: 0.2251 - val_accuracy: 0.8450\n",
            "Epoch 81/100\n",
            "25/25 [==============================] - 0s 4ms/step - loss: 0.2361 - accuracy: 0.8248 - val_loss: 0.2258 - val_accuracy: 0.8300\n",
            "Epoch 82/100\n",
            "25/25 [==============================] - 0s 4ms/step - loss: 0.2367 - accuracy: 0.8198 - val_loss: 0.2278 - val_accuracy: 0.8300\n",
            "Epoch 83/100\n",
            "25/25 [==============================] - 0s 4ms/step - loss: 0.2379 - accuracy: 0.8160 - val_loss: 0.2259 - val_accuracy: 0.8300\n",
            "Epoch 84/100\n",
            "25/25 [==============================] - 0s 4ms/step - loss: 0.2357 - accuracy: 0.8210 - val_loss: 0.2260 - val_accuracy: 0.8300\n",
            "Epoch 85/100\n",
            "25/25 [==============================] - 0s 4ms/step - loss: 0.2365 - accuracy: 0.8135 - val_loss: 0.2258 - val_accuracy: 0.8300\n",
            "Epoch 86/100\n",
            "25/25 [==============================] - 0s 4ms/step - loss: 0.2363 - accuracy: 0.8235 - val_loss: 0.2251 - val_accuracy: 0.8450\n",
            "Epoch 87/100\n",
            "25/25 [==============================] - 0s 4ms/step - loss: 0.2359 - accuracy: 0.8248 - val_loss: 0.2263 - val_accuracy: 0.8300\n",
            "Epoch 88/100\n",
            "25/25 [==============================] - 0s 4ms/step - loss: 0.2365 - accuracy: 0.8235 - val_loss: 0.2250 - val_accuracy: 0.8450\n",
            "Epoch 89/100\n",
            "25/25 [==============================] - 0s 3ms/step - loss: 0.2360 - accuracy: 0.8273 - val_loss: 0.2255 - val_accuracy: 0.8300\n",
            "Epoch 90/100\n",
            "25/25 [==============================] - 0s 4ms/step - loss: 0.2386 - accuracy: 0.8035 - val_loss: 0.2270 - val_accuracy: 0.8300\n",
            "Epoch 91/100\n",
            "25/25 [==============================] - 0s 3ms/step - loss: 0.2372 - accuracy: 0.8310 - val_loss: 0.2257 - val_accuracy: 0.8300\n",
            "Epoch 92/100\n",
            "25/25 [==============================] - 0s 4ms/step - loss: 0.2358 - accuracy: 0.8173 - val_loss: 0.2253 - val_accuracy: 0.8450\n",
            "Epoch 93/100\n",
            "25/25 [==============================] - 0s 3ms/step - loss: 0.2357 - accuracy: 0.8248 - val_loss: 0.2251 - val_accuracy: 0.8450\n",
            "Epoch 94/100\n",
            "25/25 [==============================] - 0s 4ms/step - loss: 0.2361 - accuracy: 0.8085 - val_loss: 0.2253 - val_accuracy: 0.8450\n",
            "Epoch 95/100\n",
            "25/25 [==============================] - 0s 4ms/step - loss: 0.2368 - accuracy: 0.8110 - val_loss: 0.2255 - val_accuracy: 0.8300\n",
            "Epoch 96/100\n",
            "25/25 [==============================] - 0s 4ms/step - loss: 0.2365 - accuracy: 0.8173 - val_loss: 0.2251 - val_accuracy: 0.8450\n",
            "Epoch 97/100\n",
            "25/25 [==============================] - 0s 4ms/step - loss: 0.2366 - accuracy: 0.8248 - val_loss: 0.2259 - val_accuracy: 0.8300\n",
            "Epoch 98/100\n",
            "25/25 [==============================] - 0s 3ms/step - loss: 0.2370 - accuracy: 0.8135 - val_loss: 0.2256 - val_accuracy: 0.8300\n",
            "Epoch 99/100\n",
            "25/25 [==============================] - 0s 4ms/step - loss: 0.2362 - accuracy: 0.8260 - val_loss: 0.2256 - val_accuracy: 0.8300\n",
            "Epoch 100/100\n",
            "25/25 [==============================] - 0s 3ms/step - loss: 0.2355 - accuracy: 0.8198 - val_loss: 0.2250 - val_accuracy: 0.8450\n"
          ],
          "name": "stdout"
        }
      ]
    },
    {
      "cell_type": "markdown",
      "metadata": {
        "id": "ICu99gybSwuR",
        "colab_type": "text"
      },
      "source": [
        "# 검증"
      ]
    },
    {
      "cell_type": "code",
      "metadata": {
        "id": "0AknW-DDSMHC",
        "colab_type": "code",
        "colab": {
          "base_uri": "https://localhost:8080/",
          "height": 68
        },
        "outputId": "264b6d57-74df-4d5e-85b5-e2d2cf741042"
      },
      "source": [
        "score = model.evaluate(X_train, y_train, verbose=1)\n",
        "\n",
        "print(\"Test Score:\", score[0])\n",
        "print(\"Test Accuracy:\", score[1])"
      ],
      "execution_count": 57,
      "outputs": [
        {
          "output_type": "stream",
          "text": [
            "32/32 [==============================] - 0s 1ms/step - loss: 0.2333 - accuracy: 0.8308\n",
            "Test Score: 0.2332707792520523\n",
            "Test Accuracy: 0.8308308124542236\n"
          ],
          "name": "stdout"
        }
      ]
    },
    {
      "cell_type": "code",
      "metadata": {
        "id": "tF_UaHYnSahH",
        "colab_type": "code",
        "colab": {
          "base_uri": "https://localhost:8080/",
          "height": 34
        },
        "outputId": "fa24781e-ea9b-42a7-df26-b721e4cfc68a"
      },
      "source": [
        "example = X_train[10:20]\n",
        "predictions = model.predict(example)\n",
        "\n",
        "import numpy as np\n",
        "\n",
        "np.argmax(predictions, axis=1) "
      ],
      "execution_count": 70,
      "outputs": [
        {
          "output_type": "execute_result",
          "data": {
            "text/plain": [
              "array([0, 0, 2, 1, 0, 0, 2, 2, 2, 1])"
            ]
          },
          "metadata": {
            "tags": []
          },
          "execution_count": 70
        }
      ]
    },
    {
      "cell_type": "code",
      "metadata": {
        "id": "z6UK3fyAWPaB",
        "colab_type": "code",
        "colab": {
          "base_uri": "https://localhost:8080/",
          "height": 187
        },
        "outputId": "9afeea0d-fa03-4115-e97a-45dfd18d5bfb"
      },
      "source": [
        "y_train[10:20]"
      ],
      "execution_count": 71,
      "outputs": [
        {
          "output_type": "execute_result",
          "data": {
            "text/plain": [
              "array([[0, 0, 1],\n",
              "       [0, 0, 1],\n",
              "       [0, 0, 1],\n",
              "       [0, 1, 0],\n",
              "       [1, 0, 0],\n",
              "       [0, 0, 1],\n",
              "       [0, 0, 1],\n",
              "       [0, 0, 1],\n",
              "       [0, 0, 1],\n",
              "       [0, 1, 0]], dtype=uint8)"
            ]
          },
          "metadata": {
            "tags": []
          },
          "execution_count": 71
        }
      ]
    },
    {
      "cell_type": "code",
      "metadata": {
        "id": "9ND51hezWtO3",
        "colab_type": "code",
        "colab": {}
      },
      "source": [
        "loss = history.history['loss']\n",
        "val_loss = history.history['val_loss']\n",
        "\n",
        "epochs = range(1, len(loss) + 1)\n",
        "\n",
        "plt.plot(epochs, loss, 'bo', label='Training loss')\n",
        "plt.plot(epochs, val_loss, 'b', label='Validation loss')\n",
        "plt.title('Training and validation loss')\n",
        "plt.xlabel('Epochs')\n",
        "plt.ylabel('Loss')\n",
        "plt.legend()\n",
        "\n",
        "plt.show()"
      ],
      "execution_count": 0,
      "outputs": []
    },
    {
      "cell_type": "code",
      "metadata": {
        "id": "Dkcl2ohtW-cr",
        "colab_type": "code",
        "colab": {}
      },
      "source": [
        ""
      ],
      "execution_count": 0,
      "outputs": []
    }
  ]
}